{
 "cells": [
  {
   "cell_type": "code",
   "execution_count": 1,
   "metadata": {},
   "outputs": [],
   "source": [
    "import pandas as pd\n",
    "import numpy as np\n",
    "import matplotlib.pyplot as plt\n",
    "import seaborn as sns\n",
    "import yfinance as yf\n",
    "from sklearn.model_selection import train_test_split, cross_val_score, KFold, cross_validate\n",
    "from sklearn.preprocessing import MinMaxScaler\n",
    "from sklearn.ensemble import RandomForestRegressor\n",
    "from sklearn import metrics\n",
    "from sklearn.metrics import mean_squared_error, mean_absolute_error,mean_absolute_percentage_error, r2_score\n",
    "from scipy.stats import ttest_1samp\n",
    "import joblib"
   ]
  },
  {
   "cell_type": "code",
   "execution_count": 2,
   "metadata": {},
   "outputs": [
    {
     "data": {
      "text/html": [
       "<div>\n",
       "<style scoped>\n",
       "    .dataframe tbody tr th:only-of-type {\n",
       "        vertical-align: middle;\n",
       "    }\n",
       "\n",
       "    .dataframe tbody tr th {\n",
       "        vertical-align: top;\n",
       "    }\n",
       "\n",
       "    .dataframe thead th {\n",
       "        text-align: right;\n",
       "    }\n",
       "</style>\n",
       "<table border=\"1\" class=\"dataframe\">\n",
       "  <thead>\n",
       "    <tr style=\"text-align: right;\">\n",
       "      <th></th>\n",
       "      <th>Date</th>\n",
       "      <th>Open</th>\n",
       "      <th>High</th>\n",
       "      <th>Low</th>\n",
       "      <th>Close</th>\n",
       "      <th>Volume</th>\n",
       "      <th>Month</th>\n",
       "      <th>Day</th>\n",
       "      <th>Year</th>\n",
       "      <th>Daily_Return</th>\n",
       "      <th>7-day-MA</th>\n",
       "      <th>25-day-MA</th>\n",
       "      <th>Volatility_Index</th>\n",
       "    </tr>\n",
       "  </thead>\n",
       "  <tbody>\n",
       "    <tr>\n",
       "      <th>0</th>\n",
       "      <td>2015-01-01</td>\n",
       "      <td>320.434998</td>\n",
       "      <td>320.434998</td>\n",
       "      <td>314.002991</td>\n",
       "      <td>314.248993</td>\n",
       "      <td>8036550</td>\n",
       "      <td>1</td>\n",
       "      <td>1</td>\n",
       "      <td>2015</td>\n",
       "      <td>NaN</td>\n",
       "      <td>NaN</td>\n",
       "      <td>NaN</td>\n",
       "      <td>NaN</td>\n",
       "    </tr>\n",
       "    <tr>\n",
       "      <th>1</th>\n",
       "      <td>2015-01-02</td>\n",
       "      <td>314.079010</td>\n",
       "      <td>315.838989</td>\n",
       "      <td>313.565002</td>\n",
       "      <td>315.032013</td>\n",
       "      <td>7860650</td>\n",
       "      <td>1</td>\n",
       "      <td>2</td>\n",
       "      <td>2015</td>\n",
       "      <td>0.002492</td>\n",
       "      <td>NaN</td>\n",
       "      <td>NaN</td>\n",
       "      <td>NaN</td>\n",
       "    </tr>\n",
       "    <tr>\n",
       "      <th>2</th>\n",
       "      <td>2015-01-03</td>\n",
       "      <td>314.846008</td>\n",
       "      <td>315.149994</td>\n",
       "      <td>281.082001</td>\n",
       "      <td>281.082001</td>\n",
       "      <td>33054400</td>\n",
       "      <td>1</td>\n",
       "      <td>3</td>\n",
       "      <td>2015</td>\n",
       "      <td>-0.107767</td>\n",
       "      <td>NaN</td>\n",
       "      <td>NaN</td>\n",
       "      <td>NaN</td>\n",
       "    </tr>\n",
       "    <tr>\n",
       "      <th>3</th>\n",
       "      <td>2015-01-04</td>\n",
       "      <td>281.145996</td>\n",
       "      <td>287.230011</td>\n",
       "      <td>257.612000</td>\n",
       "      <td>264.195007</td>\n",
       "      <td>55629100</td>\n",
       "      <td>1</td>\n",
       "      <td>4</td>\n",
       "      <td>2015</td>\n",
       "      <td>-0.060079</td>\n",
       "      <td>NaN</td>\n",
       "      <td>NaN</td>\n",
       "      <td>NaN</td>\n",
       "    </tr>\n",
       "    <tr>\n",
       "      <th>4</th>\n",
       "      <td>2015-01-05</td>\n",
       "      <td>265.084015</td>\n",
       "      <td>278.341003</td>\n",
       "      <td>265.084015</td>\n",
       "      <td>274.473999</td>\n",
       "      <td>43962800</td>\n",
       "      <td>1</td>\n",
       "      <td>5</td>\n",
       "      <td>2015</td>\n",
       "      <td>0.038907</td>\n",
       "      <td>NaN</td>\n",
       "      <td>NaN</td>\n",
       "      <td>NaN</td>\n",
       "    </tr>\n",
       "  </tbody>\n",
       "</table>\n",
       "</div>"
      ],
      "text/plain": [
       "         Date        Open        High         Low       Close    Volume  \\\n",
       "0  2015-01-01  320.434998  320.434998  314.002991  314.248993   8036550   \n",
       "1  2015-01-02  314.079010  315.838989  313.565002  315.032013   7860650   \n",
       "2  2015-01-03  314.846008  315.149994  281.082001  281.082001  33054400   \n",
       "3  2015-01-04  281.145996  287.230011  257.612000  264.195007  55629100   \n",
       "4  2015-01-05  265.084015  278.341003  265.084015  274.473999  43962800   \n",
       "\n",
       "   Month  Day  Year  Daily_Return  7-day-MA  25-day-MA  Volatility_Index  \n",
       "0      1    1  2015           NaN       NaN        NaN               NaN  \n",
       "1      1    2  2015      0.002492       NaN        NaN               NaN  \n",
       "2      1    3  2015     -0.107767       NaN        NaN               NaN  \n",
       "3      1    4  2015     -0.060079       NaN        NaN               NaN  \n",
       "4      1    5  2015      0.038907       NaN        NaN               NaN  "
      ]
     },
     "execution_count": 2,
     "metadata": {},
     "output_type": "execute_result"
    }
   ],
   "source": [
    "df=pd.read_csv(\"bitcoin.csv\")\n",
    "df.head()"
   ]
  },
  {
   "cell_type": "code",
   "execution_count": 3,
   "metadata": {},
   "outputs": [
    {
     "data": {
      "text/plain": [
       "(3652, 13)"
      ]
     },
     "execution_count": 3,
     "metadata": {},
     "output_type": "execute_result"
    }
   ],
   "source": [
    "df.shape"
   ]
  },
  {
   "cell_type": "code",
   "execution_count": 4,
   "metadata": {},
   "outputs": [],
   "source": [
    "df=df.dropna()"
   ]
  },
  {
   "cell_type": "code",
   "execution_count": 5,
   "metadata": {},
   "outputs": [
    {
     "data": {
      "text/plain": [
       "(3622, 13)"
      ]
     },
     "execution_count": 5,
     "metadata": {},
     "output_type": "execute_result"
    }
   ],
   "source": [
    "df.shape"
   ]
  },
  {
   "cell_type": "code",
   "execution_count": 6,
   "metadata": {},
   "outputs": [
    {
     "data": {
      "text/html": [
       "<div>\n",
       "<style scoped>\n",
       "    .dataframe tbody tr th:only-of-type {\n",
       "        vertical-align: middle;\n",
       "    }\n",
       "\n",
       "    .dataframe tbody tr th {\n",
       "        vertical-align: top;\n",
       "    }\n",
       "\n",
       "    .dataframe thead th {\n",
       "        text-align: right;\n",
       "    }\n",
       "</style>\n",
       "<table border=\"1\" class=\"dataframe\">\n",
       "  <thead>\n",
       "    <tr style=\"text-align: right;\">\n",
       "      <th></th>\n",
       "      <th>Date</th>\n",
       "      <th>Open</th>\n",
       "      <th>High</th>\n",
       "      <th>Low</th>\n",
       "      <th>Close</th>\n",
       "      <th>Volume</th>\n",
       "      <th>Month</th>\n",
       "      <th>Day</th>\n",
       "      <th>Year</th>\n",
       "      <th>Daily_Return</th>\n",
       "      <th>7-day-MA</th>\n",
       "      <th>25-day-MA</th>\n",
       "      <th>Volatility_Index</th>\n",
       "    </tr>\n",
       "  </thead>\n",
       "  <tbody>\n",
       "    <tr>\n",
       "      <th>3647</th>\n",
       "      <td>2024-12-26</td>\n",
       "      <td>99297.695312</td>\n",
       "      <td>99884.570312</td>\n",
       "      <td>95137.882812</td>\n",
       "      <td>95795.515625</td>\n",
       "      <td>47054980873</td>\n",
       "      <td>12</td>\n",
       "      <td>26</td>\n",
       "      <td>2024</td>\n",
       "      <td>-0.035284</td>\n",
       "      <td>96934.662946</td>\n",
       "      <td>99160.407500</td>\n",
       "      <td>0.024803</td>\n",
       "    </tr>\n",
       "    <tr>\n",
       "      <th>3648</th>\n",
       "      <td>2024-12-27</td>\n",
       "      <td>95704.976562</td>\n",
       "      <td>97294.843750</td>\n",
       "      <td>93310.742188</td>\n",
       "      <td>94164.859375</td>\n",
       "      <td>52419934565</td>\n",
       "      <td>12</td>\n",
       "      <td>27</td>\n",
       "      <td>2024</td>\n",
       "      <td>-0.017022</td>\n",
       "      <td>96421.652902</td>\n",
       "      <td>99092.389688</td>\n",
       "      <td>0.023737</td>\n",
       "    </tr>\n",
       "    <tr>\n",
       "      <th>3649</th>\n",
       "      <td>2024-12-28</td>\n",
       "      <td>94160.187500</td>\n",
       "      <td>95525.898438</td>\n",
       "      <td>94014.289062</td>\n",
       "      <td>95163.929688</td>\n",
       "      <td>24107436185</td>\n",
       "      <td>12</td>\n",
       "      <td>28</td>\n",
       "      <td>2024</td>\n",
       "      <td>0.010610</td>\n",
       "      <td>96127.253348</td>\n",
       "      <td>99058.860312</td>\n",
       "      <td>0.023813</td>\n",
       "    </tr>\n",
       "    <tr>\n",
       "      <th>3650</th>\n",
       "      <td>2024-12-29</td>\n",
       "      <td>95174.054688</td>\n",
       "      <td>95174.875000</td>\n",
       "      <td>92881.789062</td>\n",
       "      <td>93530.226562</td>\n",
       "      <td>29635885267</td>\n",
       "      <td>12</td>\n",
       "      <td>29</td>\n",
       "      <td>2024</td>\n",
       "      <td>-0.017167</td>\n",
       "      <td>95902.294643</td>\n",
       "      <td>98849.328125</td>\n",
       "      <td>0.023742</td>\n",
       "    </tr>\n",
       "    <tr>\n",
       "      <th>3651</th>\n",
       "      <td>2024-12-30</td>\n",
       "      <td>93527.195312</td>\n",
       "      <td>94903.320312</td>\n",
       "      <td>91317.132812</td>\n",
       "      <td>92643.210938</td>\n",
       "      <td>56188003691</td>\n",
       "      <td>12</td>\n",
       "      <td>30</td>\n",
       "      <td>2024</td>\n",
       "      <td>-0.009484</td>\n",
       "      <td>95610.433036</td>\n",
       "      <td>98691.313750</td>\n",
       "      <td>0.023730</td>\n",
       "    </tr>\n",
       "  </tbody>\n",
       "</table>\n",
       "</div>"
      ],
      "text/plain": [
       "            Date          Open          High           Low         Close  \\\n",
       "3647  2024-12-26  99297.695312  99884.570312  95137.882812  95795.515625   \n",
       "3648  2024-12-27  95704.976562  97294.843750  93310.742188  94164.859375   \n",
       "3649  2024-12-28  94160.187500  95525.898438  94014.289062  95163.929688   \n",
       "3650  2024-12-29  95174.054688  95174.875000  92881.789062  93530.226562   \n",
       "3651  2024-12-30  93527.195312  94903.320312  91317.132812  92643.210938   \n",
       "\n",
       "           Volume  Month  Day  Year  Daily_Return      7-day-MA     25-day-MA  \\\n",
       "3647  47054980873     12   26  2024     -0.035284  96934.662946  99160.407500   \n",
       "3648  52419934565     12   27  2024     -0.017022  96421.652902  99092.389688   \n",
       "3649  24107436185     12   28  2024      0.010610  96127.253348  99058.860312   \n",
       "3650  29635885267     12   29  2024     -0.017167  95902.294643  98849.328125   \n",
       "3651  56188003691     12   30  2024     -0.009484  95610.433036  98691.313750   \n",
       "\n",
       "      Volatility_Index  \n",
       "3647          0.024803  \n",
       "3648          0.023737  \n",
       "3649          0.023813  \n",
       "3650          0.023742  \n",
       "3651          0.023730  "
      ]
     },
     "execution_count": 6,
     "metadata": {},
     "output_type": "execute_result"
    }
   ],
   "source": [
    "df.tail()"
   ]
  },
  {
   "cell_type": "code",
   "execution_count": 7,
   "metadata": {},
   "outputs": [],
   "source": [
    "X=df.drop(['Close','Date'],axis=1)\n",
    "#X=df.drop(['Close','Date', 'Month','Day',\t'Year',\t'Daily_Return','Volatility_Index'],axis=1)\n",
    "y=df['Close']"
   ]
  },
  {
   "cell_type": "code",
   "execution_count": 8,
   "metadata": {},
   "outputs": [
    {
     "data": {
      "image/png": "[encoded data removed]",
      "text/plain": [
       "<Figure size 1000x500 with 1 Axes>"
      ]
     },
     "metadata": {},
     "output_type": "display_data"
    }
   ],
   "source": [
    "from sklearn.feature_selection import mutual_info_regression\n",
    "\n",
    "# Compute Mutual Information for Regression\n",
    "importances = mutual_info_regression(X, y)\n",
    "\n",
    "# Convert to Series for easy visualization\n",
    "feat_importances = pd.Series(importances, index=X.columns)\n",
    "\n",
    "# Plot feature importance\n",
    "plt.figure(figsize=(10, 5))\n",
    "feat_importances.sort_values().plot(kind=\"barh\")\n",
    "plt.xlabel(\"Mutual Information Score\")\n",
    "plt.ylabel(\"Features\")\n",
    "plt.title(\"Feature Importance using Mutual Information (Regression)\")\n",
    "plt.grid(True)\n",
    "plt.show()"
   ]
  },
  {
   "cell_type": "code",
   "execution_count": 9,
   "metadata": {},
   "outputs": [
    {
     "data": {
      "text/html": [
       "<div>\n",
       "<style scoped>\n",
       "    .dataframe tbody tr th:only-of-type {\n",
       "        vertical-align: middle;\n",
       "    }\n",
       "\n",
       "    .dataframe tbody tr th {\n",
       "        vertical-align: top;\n",
       "    }\n",
       "\n",
       "    .dataframe thead th {\n",
       "        text-align: right;\n",
       "    }\n",
       "</style>\n",
       "<table border=\"1\" class=\"dataframe\">\n",
       "  <thead>\n",
       "    <tr style=\"text-align: right;\">\n",
       "      <th></th>\n",
       "      <th>Open</th>\n",
       "      <th>High</th>\n",
       "      <th>Low</th>\n",
       "      <th>Volume</th>\n",
       "      <th>Month</th>\n",
       "      <th>7-day-MA</th>\n",
       "      <th>25-day-MA</th>\n",
       "    </tr>\n",
       "  </thead>\n",
       "  <tbody>\n",
       "    <tr>\n",
       "      <th>30</th>\n",
       "      <td>226.440994</td>\n",
       "      <td>233.503998</td>\n",
       "      <td>216.309006</td>\n",
       "      <td>23348200</td>\n",
       "      <td>1</td>\n",
       "      <td>243.140429</td>\n",
       "      <td>239.081519</td>\n",
       "    </tr>\n",
       "    <tr>\n",
       "      <th>31</th>\n",
       "      <td>216.867004</td>\n",
       "      <td>231.574005</td>\n",
       "      <td>212.014999</td>\n",
       "      <td>29128500</td>\n",
       "      <td>2</td>\n",
       "      <td>239.319571</td>\n",
       "      <td>236.386918</td>\n",
       "    </tr>\n",
       "  </tbody>\n",
       "</table>\n",
       "</div>"
      ],
      "text/plain": [
       "          Open        High         Low    Volume  Month    7-day-MA  \\\n",
       "30  226.440994  233.503998  216.309006  23348200      1  243.140429   \n",
       "31  216.867004  231.574005  212.014999  29128500      2  239.319571   \n",
       "\n",
       "     25-day-MA  \n",
       "30  239.081519  \n",
       "31  236.386918  "
      ]
     },
     "execution_count": 9,
     "metadata": {},
     "output_type": "execute_result"
    }
   ],
   "source": [
    "X=X.drop(['Year','Day','Daily_Return','Volatility_Index'],axis=1)\n",
    "X.head(2)"
   ]
  },
  {
   "cell_type": "code",
   "execution_count": 10,
   "metadata": {},
   "outputs": [],
   "source": [
    "# splitting X and y into training and testing sets\n",
    "\n",
    "from sklearn.model_selection import train_test_split\n",
    "X_train, X_test, y_train, y_test = train_test_split(X, y, test_size=0.25, random_state=0)"
   ]
  },
  {
   "cell_type": "code",
   "execution_count": 11,
   "metadata": {},
   "outputs": [],
   "source": [
    "\n",
    "model = RandomForestRegressor(n_estimators = 20, random_state = 0)\n",
    "\n",
    "model.fit(X_train, y_train) \n",
    "y_pred = model.predict(X_test)"
   ]
  },
  {
   "cell_type": "code",
   "execution_count": 12,
   "metadata": {},
   "outputs": [
    {
     "name": "stdout",
     "output_type": "stream",
     "text": [
      "Mean Absolute Error (MAE): 286.8464425598549\n",
      "Mean Squared Error (MSE): 399263.2380708722\n",
      "Root Mean Squared Error (RMSE): 631.8728021294097\n",
      "Mean Absolute Percentage Error (MAPE): 1.3657006976044337\n",
      "R-squared (R²): 0.999267903959272\n"
     ]
    }
   ],
   "source": [
    "# Metrics calculation\n",
    "print('Mean Absolute Error (MAE):', metrics.mean_absolute_error(y_test, y_pred))\n",
    "print('Mean Squared Error (MSE):', mean_squared_error(y_test, y_pred))\n",
    "print('Root Mean Squared Error (RMSE):', np.sqrt(mean_squared_error(y_test, y_pred)))\n",
    "mape = np.mean(np.abs((y_test - y_pred) / y_test)) * 100\n",
    "print('Mean Absolute Percentage Error (MAPE):', mape)\n",
    "\n",
    "# R-squared score\n",
    "print('R-squared (R²):', r2_score(y_test, y_pred))"
   ]
  },
  {
   "cell_type": "code",
   "execution_count": 13,
   "metadata": {},
   "outputs": [
    {
     "name": "stdout",
     "output_type": "stream",
     "text": [
      "Fitting 5 folds for each of 108 candidates, totalling 540 fits\n",
      "Best Parameters: {'max_depth': 20, 'min_samples_leaf': 1, 'min_samples_split': 2, 'n_estimators': 200}\n"
     ]
    }
   ],
   "source": [
    "from sklearn.model_selection import GridSearchCV\n",
    "from sklearn.ensemble import RandomForestRegressor\n",
    "\n",
    "\n",
    "param_grid = {\n",
    "    'n_estimators': [50, 100, 200],\n",
    "    'max_depth': [5, 10, 20, None],  \n",
    "    'min_samples_split': [2, 5, 10],  \n",
    "    'min_samples_leaf': [1, 2, 4]  \n",
    "}\n",
    "\n",
    "# Grid search with cross-validation\n",
    "grid_search = GridSearchCV(RandomForestRegressor(random_state=0, n_jobs=-1), \n",
    "                           param_grid, \n",
    "                           cv=5, \n",
    "                           scoring='neg_mean_absolute_error', \n",
    "                           n_jobs=-1,\n",
    "                           verbose=1)\n",
    "\n",
    "grid_search.fit(X_train, y_train)\n",
    "\n",
    "# Print best parameters\n",
    "print(\"Best Parameters:\", grid_search.best_params_)\n"
   ]
  },
  {
   "cell_type": "code",
   "execution_count": 14,
   "metadata": {},
   "outputs": [
    {
     "name": "stdout",
     "output_type": "stream",
     "text": [
      "Training Performance (5-Fold CV):\n",
      "MAE: 99.66 ± 1.43\n",
      "MSE: 38621.71 ± 1341.03\n",
      "RMSE: 196.52\n",
      "R²: 0.9999\n",
      "\n",
      "Validation Performance (5-Fold CV):\n",
      "MAE: 271.62\n",
      "MSE: 291713.92\n",
      "RMSE: 540.11\n",
      "R²: 0.9994\n",
      "\n",
      "Testing Performance:\n",
      "MAE: 277.12\n",
      "MSE: 378460.53\n",
      "RMSE: 615.19\n",
      "R²: 0.9993\n",
      "\n",
      "The model seems to generalize well with balanced training and testing performance.\n"
     ]
    }
   ],
   "source": [
    "\n",
    "rf_model = RandomForestRegressor(\n",
    "    n_estimators=200, \n",
    "    max_depth=20,                \n",
    "    min_samples_split=2,         \n",
    "    min_samples_leaf=1,          \n",
    "    random_state=0, \n",
    "    n_jobs=-1\n",
    ")\n",
    "\n",
    "# Define cross-validation strategy\n",
    "cv = KFold(n_splits=5, shuffle=True, random_state=0)\n",
    "\n",
    "# Perform cross-validation\n",
    "cv_results = cross_validate(\n",
    "    rf_model, X_train, y_train, cv=cv, \n",
    "    scoring=['neg_mean_absolute_error', 'neg_mean_squared_error', 'r2'],\n",
    "    n_jobs=-1, return_train_score=True\n",
    ")\n",
    "\n",
    "# Compute training performance (cross-validation mean & std)\n",
    "mae_train_mean = -cv_results['train_neg_mean_absolute_error'].mean()\n",
    "mae_train_std = cv_results['train_neg_mean_absolute_error'].std()\n",
    "mse_train_mean = -cv_results['train_neg_mean_squared_error'].mean()\n",
    "mse_train_std = cv_results['train_neg_mean_squared_error'].std()\n",
    "rmse_train_mean = np.sqrt(mse_train_mean)\n",
    "r2_train_mean = cv_results['train_r2'].mean()\n",
    "\n",
    "# Compute validation performance\n",
    "mae_val_mean = -cv_results['test_neg_mean_absolute_error'].mean()\n",
    "mse_val_mean = -cv_results['test_neg_mean_squared_error'].mean()\n",
    "rmse_val_mean = np.sqrt(mse_val_mean)\n",
    "r2_val_mean = cv_results['test_r2'].mean()\n",
    "\n",
    "# Fit model on full training data and evaluate on test set\n",
    "rf_model.fit(X_train, y_train)\n",
    "y_pred_test = rf_model.predict(X_test)\n",
    "\n",
    "# Calculate test set performance\n",
    "mae_test = mean_absolute_error(y_test, y_pred_test)\n",
    "mse_test = mean_squared_error(y_test, y_pred_test)\n",
    "rmse_test = np.sqrt(mse_test)\n",
    "r2_test = r2_score(y_test, y_pred_test)\n",
    "\n",
    "# Print Training & Validation Performance\n",
    "print(f\"Training Performance (5-Fold CV):\")\n",
    "print(f\"MAE: {mae_train_mean:.2f} ± {mae_train_std:.2f}\")\n",
    "print(f\"MSE: {mse_train_mean:.2f} ± {mse_train_std:.2f}\")\n",
    "print(f\"RMSE: {rmse_train_mean:.2f}\")\n",
    "print(f\"R²: {r2_train_mean:.4f}\")\n",
    "\n",
    "print(f\"\\nValidation Performance (5-Fold CV):\")\n",
    "print(f\"MAE: {mae_val_mean:.2f}\")\n",
    "print(f\"MSE: {mse_val_mean:.2f}\")\n",
    "print(f\"RMSE: {rmse_val_mean:.2f}\")\n",
    "print(f\"R²: {r2_val_mean:.4f}\")\n",
    "\n",
    "# Print Testing Performance\n",
    "print(\"\\nTesting Performance:\")\n",
    "print(f\"MAE: {mae_test:.2f}\")\n",
    "print(f\"MSE: {mse_test:.2f}\")\n",
    "print(f\"RMSE: {rmse_test:.2f}\")\n",
    "print(f\"R²: {r2_test:.4f}\")\n",
    "\n",
    "# Check for Overfitting\n",
    "overfitting_threshold = 1.10  \n",
    "mae_ratio = mae_train_mean / mae_test\n",
    "mse_ratio = mse_train_mean / mse_test\n",
    "\n",
    "if mae_ratio < overfitting_threshold and mse_ratio < overfitting_threshold:\n",
    "    print(\"\\nThe model seems to generalize well with balanced training and testing performance.\")\n",
    "else:\n",
    "    print(\"\\nWarning: Potential Overfitting detected! Training performance is much better than testing performance.\")\n"
   ]
  },
  {
   "cell_type": "code",
   "execution_count": 16,
   "metadata": {},
   "outputs": [
    {
     "name": "stdout",
     "output_type": "stream",
     "text": [
      "\n",
      "### Normality Test Results ###\n",
      "\n",
      "Shapiro-Wilk Test Statistic: 0.656912\n",
      "P-value: 3.612926e-39\n",
      "Shapiro-Wilk Test: Reject the null hypothesis (Data is NOT normally distributed).\n",
      "\n",
      "Kolmogorov-Smirnov Test Statistic: 0.237049\n",
      "P-value: 2.838943e-45\n",
      "Kolmogorov-Smirnov Test: Reject the null hypothesis (Data is NOT normally distributed).\n",
      "\n",
      "Anderson-Darling Test Statistic: 99.163891\n",
      "Critical Values: [0.573 0.653 0.784 0.914 1.087]\n",
      "Significance Levels: [15.  10.   5.   2.5  1. ]%\n",
      "Anderson-Darling Test: Reject the null hypothesis (Data is NOT normally distributed).\n"
     ]
    },
    {
     "data": {
      "image/png": "[encoded data removed]",
      "text/plain": [
       "<Figure size 1200x500 with 2 Axes>"
      ]
     },
     "metadata": {},
     "output_type": "display_data"
    }
   ],
   "source": [
    "from scipy import stats\n",
    "\n",
    "residuals = y_test - y_pred_test\n",
    "\n",
    "# Shapiro-Wilk Test\n",
    "shapiro_test = stats.shapiro(residuals)\n",
    "shapiro_stat, shapiro_p = shapiro_test.statistic, shapiro_test.pvalue\n",
    "\n",
    "#  Kolmogorov-Smirnov (KS) Test\n",
    "ks_test = stats.kstest(residuals, 'norm', args=(np.mean(residuals), np.std(residuals)))\n",
    "ks_stat, ks_p = ks_test.statistic, ks_test.pvalue\n",
    "\n",
    "#  Anderson-Darling Test\n",
    "ad_test = stats.anderson(residuals, dist='norm')\n",
    "ad_stat, ad_critical_values, ad_significance = ad_test.statistic, ad_test.critical_values, ad_test.significance_level\n",
    "\n",
    "\n",
    "print(\"\\n### Normality Test Results ###\\n\")\n",
    "\n",
    "# Shapiro-Wilk\n",
    "print(f\"Shapiro-Wilk Test Statistic: {shapiro_stat:.6f}\")\n",
    "print(f\"P-value: {shapiro_p:.6e}\")\n",
    "if shapiro_p < 0.05:\n",
    "    print(\"Shapiro-Wilk Test: Reject the null hypothesis (Data is NOT normally distributed).\")\n",
    "else:\n",
    "    print(\"Shapiro-Wilk Test: Fail to reject the null hypothesis (Data is normally distributed).\")\n",
    "\n",
    "# Kolmogorov-Smirnov\n",
    "print(f\"\\nKolmogorov-Smirnov Test Statistic: {ks_stat:.6f}\")\n",
    "print(f\"P-value: {ks_p:.6e}\")\n",
    "if ks_p < 0.05:\n",
    "    print(\"Kolmogorov-Smirnov Test: Reject the null hypothesis (Data is NOT normally distributed).\")\n",
    "else:\n",
    "    print(\"Kolmogorov-Smirnov Test: Fail to reject the null hypothesis (Data is normally distributed).\")\n",
    "\n",
    "# Anderson-Darling\n",
    "print(f\"\\nAnderson-Darling Test Statistic: {ad_stat:.6f}\")\n",
    "print(f\"Critical Values: {ad_critical_values}\")\n",
    "print(f\"Significance Levels: {ad_significance}%\")\n",
    "if any(ad_stat > ad_critical_values[i] for i in range(len(ad_critical_values))):\n",
    "    print(\"Anderson-Darling Test: Reject the null hypothesis (Data is NOT normally distributed).\")\n",
    "else:\n",
    "    print(\"Anderson-Darling Test: Fail to reject the null hypothesis (Data is normally distributed).\")\n",
    "\n",
    "#  Visualization: Histogram & Q-Q Plot\n",
    "plt.figure(figsize=(12, 5))\n",
    "\n",
    "# Histogram\n",
    "plt.subplot(1, 2, 1)\n",
    "sns.histplot(residuals, kde=True, bins=30)\n",
    "plt.title(\"Residuals Histogram\")\n",
    "\n",
    "# Q-Q Plot\n",
    "plt.subplot(1, 2, 2)\n",
    "stats.probplot(residuals, dist=\"norm\", plot=plt)\n",
    "plt.title(\"Q-Q Plot\")\n",
    "\n",
    "plt.show()\n"
   ]
  },
  {
   "cell_type": "code",
   "execution_count": null,
   "metadata": {},
   "outputs": [
    {
     "name": "stdout",
     "output_type": "stream",
     "text": [
      "Wilcoxon Test Statistic: 201794.0\n",
      "P-value: 0.64394603079561\n",
      "Fail to reject the null hypothesis: No significant difference between predicted and actual values.\n"
     ]
    }
   ],
   "source": [
    "from scipy.stats import wilcoxon\n",
    "\n",
    "# Perform Wilcoxon signed-rank test\n",
    "stat, p_value = wilcoxon(difference)\n",
    "\n",
    "print(f\"Wilcoxon Test Statistic: {stat}\")\n",
    "print(f\"P-value: {p_value}\")\n",
    "\n",
    "if p_value < 0.05:\n",
    "    print(\"Reject the null hypothesis: Significant difference between predicted and actual values.\")\n",
    "else:\n",
    "    print(\"Fail to reject the null hypothesis: No significant difference between predicted and actual values.\")"
   ]
  },
  {
   "cell_type": "code",
   "execution_count": null,
   "metadata": {},
   "outputs": [
    {
     "data": {
      "text/plain": [
       "['rf_model.pkl']"
      ]
     },
     "execution_count": 95,
     "metadata": {},
     "output_type": "execute_result"
    }
   ],
   "source": [
    "# Save the trained model\n",
    "joblib.dump(rf_model, \"rf_model.pkl\")"
   ]
  },
  {
   "cell_type": "code",
   "execution_count": null,
   "metadata": {},
   "outputs": [
    {
     "data": {
      "text/html": [
       "<div>\n",
       "<style scoped>\n",
       "    .dataframe tbody tr th:only-of-type {\n",
       "        vertical-align: middle;\n",
       "    }\n",
       "\n",
       "    .dataframe tbody tr th {\n",
       "        vertical-align: top;\n",
       "    }\n",
       "\n",
       "    .dataframe thead th {\n",
       "        text-align: right;\n",
       "    }\n",
       "</style>\n",
       "<table border=\"1\" class=\"dataframe\">\n",
       "  <thead>\n",
       "    <tr style=\"text-align: right;\">\n",
       "      <th></th>\n",
       "      <th>Open</th>\n",
       "      <th>High</th>\n",
       "      <th>Low</th>\n",
       "      <th>Volume</th>\n",
       "      <th>Month</th>\n",
       "      <th>7-day-MA</th>\n",
       "      <th>25-day-MA</th>\n",
       "    </tr>\n",
       "  </thead>\n",
       "  <tbody>\n",
       "    <tr>\n",
       "      <th>1159</th>\n",
       "      <td>11532.400391</td>\n",
       "      <td>11704.099609</td>\n",
       "      <td>11443.900391</td>\n",
       "      <td>6468539904</td>\n",
       "      <td>3</td>\n",
       "      <td>11105.214286</td>\n",
       "      <td>10231.186504</td>\n",
       "    </tr>\n",
       "  </tbody>\n",
       "</table>\n",
       "</div>"
      ],
      "text/plain": [
       "              Open          High           Low      Volume  Month  \\\n",
       "1159  11532.400391  11704.099609  11443.900391  6468539904      3   \n",
       "\n",
       "          7-day-MA     25-day-MA  \n",
       "1159  11105.214286  10231.186504  "
      ]
     },
     "execution_count": 96,
     "metadata": {},
     "output_type": "execute_result"
    }
   ],
   "source": [
    "X_train.head(1)"
   ]
  },
  {
   "cell_type": "code",
   "execution_count": null,
   "metadata": {},
   "outputs": [
    {
     "name": "stdout",
     "output_type": "stream",
     "text": [
      "New Data Prediction - Random Forest: [90839.26976562]\n"
     ]
    }
   ],
   "source": [
    "# Feature names (must match those used during training)\n",
    "feature_names = [\"Open\", \"High\", \"Low\",\"Volume\",\"Month\", \"7-day-MA\", \"25-day-MA\"]\n",
    "\n",
    "def predict_new_data(new_data):\n",
    "    # Load the trained model\n",
    "    model = joblib.load(\"rf_model.pkl\")\n",
    "    \n",
    "    # Convert to DataFrame with column names\n",
    "    new_data_df = pd.DataFrame(new_data, columns=feature_names)\n",
    "    \n",
    "    # Make predictions directly\n",
    "    new_rf_pred = model.predict(new_data_df)\n",
    "    \n",
    "    return new_rf_pred  # No need for inverse transformation\n",
    "\n",
    "# Example Usage\n",
    "new_data = np.array([[89931.88,\t91283.02, 84667.03,\t48139.07,3,89145.32, 92571.98]])\n",
    "rf_prediction = predict_new_data(new_data)\n",
    "print(f\"New Data Prediction - Random Forest: {rf_prediction}\")\n"
   ]
  }
 ],
 "metadata": {
  "kernelspec": {
   "display_name": "venv",
   "language": "python",
   "name": "python3"
  },
  "language_info": {
   "codemirror_mode": {
    "name": "ipython",
    "version": 3
   },
   "file_extension": ".py",
   "mimetype": "text/x-python",
   "name": "python",
   "nbconvert_exporter": "python",
   "pygments_lexer": "ipython3",
   "version": "3.13.2"
  }
 },
 "nbformat": 4,
 "nbformat_minor": 2
}
